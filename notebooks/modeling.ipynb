{
 "cells": [
  {
   "cell_type": "code",
   "execution_count": 1,
   "metadata": {},
   "outputs": [],
   "source": [
    "import pandas as pd\n",
    "import pandas as pd\n",
    "from sklearn.model_selection import train_test_split, GridSearchCV\n",
    "from sklearn.ensemble import RandomForestClassifier\n",
    "from sklearn.metrics import classification_report"
   ]
  },
  {
   "cell_type": "code",
   "execution_count": 2,
   "metadata": {},
   "outputs": [],
   "source": [
    "df_customers = pd.read_csv(\"https://dojo-git.s3.eu-west-3.amazonaws.com/cleaned/customers.csv\")\n",
    "df_products = pd.read_csv(\"https://dojo-git.s3.eu-west-3.amazonaws.com/cleaned/products.csv\")\n",
    "df_transactions = pd.read_csv(\"https://dojo-git.s3.eu-west-3.amazonaws.com/cleaned/Transactions.csv\")"
   ]
  },
  {
   "cell_type": "code",
   "execution_count": 4,
   "metadata": {},
   "outputs": [
    {
     "name": "stdout",
     "output_type": "stream",
     "text": [
      "  client_id sex  birth\n",
      "0    c_4410   f   1967\n",
      "1    c_7839   f   1975\n",
      "2    c_1699   f   1984\n",
      "3    c_5961   f   1962\n",
      "4    c_5320   m   1943\n",
      "  id_prod  price  categ\n",
      "0  0_1421  19.99      0\n",
      "1  0_1368   5.13      0\n",
      "2   0_731  17.99      0\n",
      "3   1_587   4.99      1\n",
      "4  0_1507   3.99      0\n",
      "  id_prod                        date session_id client_id\n",
      "0  0_1259  2021-03-01 00:01:07.843138        s_1     c_329\n",
      "1  0_1390  2021-03-01 00:02:26.047414        s_2     c_664\n",
      "2  0_1352  2021-03-01 00:02:38.311413        s_3     c_580\n",
      "3  0_1458  2021-03-01 00:04:54.559692        s_4    c_7912\n",
      "4  0_1358  2021-03-01 00:05:18.801198        s_5    c_2033\n"
     ]
    }
   ],
   "source": [
    "\n",
    "\n",
    "# Lire les fichiers CSV avec le bon séparateur\n",
    "df_customers = pd.read_csv(\"https://dojo-git.s3.eu-west-3.amazonaws.com/cleaned/customers.csv\", sep=';')\n",
    "df_products = pd.read_csv(\"https://dojo-git.s3.eu-west-3.amazonaws.com/cleaned/products.csv\", sep=';')\n",
    "df_transactions = pd.read_csv(\"https://dojo-git.s3.eu-west-3.amazonaws.com/cleaned/Transactions.csv\", sep=';')\n",
    "\n",
    "# Afficher les premières lignes des datasets pour vérifier\n",
    "print(df_customers.head())\n",
    "print(df_products.head())\n",
    "print(df_transactions.head())\n"
   ]
  },
  {
   "cell_type": "code",
   "execution_count": 5,
   "metadata": {},
   "outputs": [
    {
     "name": "stdout",
     "output_type": "stream",
     "text": [
      "  id_prod                        date session_id client_id sex  birth  price  \\\n",
      "0  0_1259  2021-03-01 00:01:07.843138        s_1     c_329   f   1967  11.99   \n",
      "1  0_1390  2021-03-01 00:02:26.047414        s_2     c_664   m   1960  19.37   \n",
      "2  0_1352  2021-03-01 00:02:38.311413        s_3     c_580   m   1988   4.50   \n",
      "3  0_1458  2021-03-01 00:04:54.559692        s_4    c_7912   f   1989   6.55   \n",
      "4  0_1358  2021-03-01 00:05:18.801198        s_5    c_2033   f   1956  16.49   \n",
      "\n",
      "   categ  \n",
      "0      0  \n",
      "1      0  \n",
      "2      0  \n",
      "3      0  \n",
      "4      0  \n"
     ]
    }
   ],
   "source": [
    "# Fusionner les dataframes pour créer un seul dataframe complet\n",
    "df_merged = pd.merge(df_transactions, df_customers, on='client_id', how='left')\n",
    "df_merged = pd.merge(df_merged, df_products, on='id_prod', how='left')\n",
    "\n",
    "# Afficher les premières lignes du dataframe fusionné pour vérifier\n",
    "print(df_merged.head())\n"
   ]
  },
  {
   "cell_type": "code",
   "execution_count": 6,
   "metadata": {},
   "outputs": [],
   "source": [
    "def calculate_rfm(data):\n",
    "    # Récence : Date de la dernière transaction\n",
    "    data['Recency'] = (data['date_reference'] - data['last_purchase_date']).dt.days\n",
    "    # Fréquence : Nombre total de transactions\n",
    "    data['Frequency'] = data.groupby('customer_id')['transaction_id'].transform('count')\n",
    "    # Montant : Montant total dépensé\n",
    "    data['Monetary'] = data.groupby('customer_id')['amount'].transform('sum')\n",
    "    return data\n",
    "\n",
    "def create_features(data):\n",
    "    # Exemple de création de nouvelles variables\n",
    "    data['average_transaction_value'] = data['Monetary'] / data['Frequency']\n",
    "    return data\n"
   ]
  },
  {
   "cell_type": "code",
   "execution_count": 7,
   "metadata": {},
   "outputs": [],
   "source": [
    "\n",
    "\n",
    "def train_model(data, target):\n",
    "    X = data.drop(columns=[target])\n",
    "    y = data[target]\n",
    "    \n",
    "    X_train, X_test, y_train, y_test = train_test_split(X, y, test_size=0.2, random_state=42)\n",
    "    \n",
    "    model = RandomForestClassifier()\n",
    "    param_grid = {\n",
    "        'n_estimators': [100, 200],\n",
    "        'max_depth': [10, 20]\n",
    "    }\n",
    "    \n",
    "    grid_search = GridSearchCV(model, param_grid, cv=5, scoring='accuracy')\n",
    "    grid_search.fit(X_train, y_train)\n",
    "    \n",
    "    best_model = grid_search.best_estimator_\n",
    "    y_pred = best_model.predict(X_test)\n",
    "    \n",
    "    print(classification_report(y_test, y_pred))\n",
    "    \n",
    "    # Retourner les résultats pour analyse externe\n",
    "    return X_train, X_test, y_train, y_test, y_pred, best_model\n"
   ]
  }
 ],
 "metadata": {
  "kernelspec": {
   "display_name": "Python 3",
   "language": "python",
   "name": "python3"
  },
  "language_info": {
   "codemirror_mode": {
    "name": "ipython",
    "version": 3
   },
   "file_extension": ".py",
   "mimetype": "text/x-python",
   "name": "python",
   "nbconvert_exporter": "python",
   "pygments_lexer": "ipython3",
   "version": "3.12.2"
  }
 },
 "nbformat": 4,
 "nbformat_minor": 2
}
